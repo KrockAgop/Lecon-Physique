{
 "cells": [
  {
   "cell_type": "code",
   "execution_count": null,
   "metadata": {},
   "outputs": [],
   "source": [
    "import numpy as np\n",
    "import os\n",
    "from matplotlib import pyplot as plt\n",
    "from scipy.optimize import curve_fit\n",
    "plt.rcParams[\"figure.figsize\"]=10,5\n"
   ]
  },
  {
   "cell_type": "code",
   "execution_count": null,
   "metadata": {},
   "outputs": [],
   "source": [
    "def my_round(X , DX) :\n",
    "    Ndecimal = np.int(np.ceil(np.abs(np.log10(DX))))\n",
    "    DX = np.around( DX , Ndecimal )\n",
    "    X = np.around( X , Ndecimal )\n",
    "    return X , DX\n",
    "\n",
    "def affine(x,a,b) :\n",
    "    return a * x + b\n",
    "\n",
    "def lineaire(x,a) :\n",
    "    return a * x"
   ]
  },
  {
   "cell_type": "markdown",
   "metadata": {},
   "source": [
    "##########################################################\n",
    "##########################################################\n",
    "##### 1ere partie : Capacité calorifique eau\n",
    "##########################################################\n",
    "##########################################################"
   ]
  },
  {
   "cell_type": "code",
   "execution_count": null,
   "metadata": {},
   "outputs": [],
   "source": [
    "ls -lrt"
   ]
  },
  {
   "cell_type": "code",
   "execution_count": null,
   "metadata": {},
   "outputs": [],
   "source": [
    "# Formatage du fichier csv le cas echeant : \n",
    "catinit= open('DATA_chauffage.csv','r').read()\n",
    "print (catinit)"
   ]
  },
  {
   "cell_type": "code",
   "execution_count": null,
   "metadata": {},
   "outputs": [],
   "source": [
    "catinit=catinit.replace(',',' ') #Delimiter \n",
    "#catinit=catinit.replace(',','.') #Virgule en point\n",
    "\n",
    "cat = open('rdy2go.txt','w')\n",
    "cat.write(catinit)\n",
    "cat.close()"
   ]
  },
  {
   "cell_type": "code",
   "execution_count": null,
   "metadata": {},
   "outputs": [],
   "source": [
    "# Lecture du fichier Formate \n",
    "Cat = np.genfromtxt('rdy2go.txt',dtype=[('m',np.float) , ('m_err',np.float) , ('U',np.float) , ('U_err',np.float) , ('I',np.float) , ('I_err',np.float) , ('dt',np.float) , ('dt_err',np.float) , ('Ti',np.float) , ('Ti_err',np.float) , ('Tf' , np.float) , ('Tf_err' , np.float)],skip_header=2)\n",
    "Cat['Ti'] = Cat['Ti'] + 273.15 # On passe de °C a K \n",
    "Cat['Tf'] = Cat['Tf'] + 273.15 # On passe de °C a K "
   ]
  },
  {
   "cell_type": "code",
   "execution_count": null,
   "metadata": {},
   "outputs": [],
   "source": [
    "# Préparation des datas (X,Y) : \n",
    "DT = Cat['Tf'] - Cat['Ti']\n",
    "\n",
    "X = Cat['m']\n",
    "Y = Cat['U'] * Cat['I'] * Cat['dt'] / DT \n",
    "\n",
    "# Propagation incertitudes : \n",
    "# Je pose A = U.I.dt   et B = DT pour plus de facilite , et donc Y=A/B : \n",
    "A = Cat['U'] * Cat['I'] * Cat['dt']\n",
    "A_err = A * np.sqrt( (Cat['U_err']/Cat['U'])**2 + (Cat['I_err']/Cat['I'])**2 + (Cat['dt_err']/Cat['dt'])**2 )\n",
    "\n",
    "B = Cat['Tf'] - Cat['Ti']\n",
    "B_err = np.sqrt(Cat['Tf_err']**2 + Cat['Ti_err']**2 )\n",
    "\n",
    "Y_err = Y * np.sqrt( (A_err/A)**2 + (B_err/B)**2 )\n",
    "X_err = Cat['m_err']"
   ]
  },
  {
   "cell_type": "code",
   "execution_count": null,
   "metadata": {},
   "outputs": [],
   "source": [
    "# Regression Affine : \n",
    "Regr, pcov = curve_fit(affine , X , Y, sigma = Y_err) \n",
    "Regr_err = np.sqrt(np.diag(pcov))"
   ]
  },
  {
   "cell_type": "code",
   "execution_count": null,
   "metadata": {},
   "outputs": [],
   "source": [
    "# Plot resultat : \n",
    "\n",
    "ceau , ceau_err = my_round(Regr[0] , Regr_err[0])\n",
    "Ccal , Ccal_err = my_round(Regr[1] , Regr_err[1])\n",
    "\n",
    "\n",
    "%matplotlib notebook\n",
    "plt.figure()\n",
    "\n",
    "plt.xlabel('$m_{eau}\\ (g)$')\n",
    "plt.ylabel('$U\\,I\\,\\delta t\\, /\\, \\Delta T \\ (\\, J\\,K^{-1})$')\n",
    "\n",
    "plt.errorbar( X , Y, xerr=X_err , yerr=Y_err , color='tomato', fmt = 'o',markersize=4, label='data')\n",
    "plt.plot (X, Regr[0]*X + Regr[1], 'royalblue' )\n",
    "\n",
    "plt.legend()\n",
    "plt.show()\n",
    "\n",
    "print (Regr)\n",
    "print (Regr_err)\n",
    "\n",
    "print ('###############' )\n",
    "print (r'ceau = '+str(ceau)+' +/- '+str(ceau_err)+' (J/K/g)')\n",
    "print (r'Ccal = '+str(Ccal)+' +/- '+str(Ccal_err)+' (J/K)')\n"
   ]
  },
  {
   "cell_type": "code",
   "execution_count": null,
   "metadata": {},
   "outputs": [],
   "source": [
    "##########################################################\n",
    "##########################################################\n",
    "##### 2eme partie : Moteur Stirling\n",
    "##########################################################\n",
    "##########################################################"
   ]
  },
  {
   "cell_type": "code",
   "execution_count": null,
   "metadata": {},
   "outputs": [],
   "source": [
    "ls -lrt"
   ]
  },
  {
   "cell_type": "code",
   "execution_count": null,
   "metadata": {
    "scrolled": true
   },
   "outputs": [],
   "source": [
    "# Formatage du fichier csv le cas echeant : \n",
    "UV= open('scope_1_1.csv','r').read()\n",
    "UP= open('scope_1_2.csv','r').read()\n",
    "print (UV)\n",
    "print (UP)"
   ]
  },
  {
   "cell_type": "code",
   "execution_count": null,
   "metadata": {},
   "outputs": [],
   "source": [
    "UV=UV.replace(',',' ') #Delimiter \n",
    "#UV=UV.replace(',','.') #Virgule en point\n",
    "\n",
    "UP=UP.replace(',',' ') #Delimiter \n",
    "#UP=UP.replace(',','.') #Virgule en point\n",
    "\n",
    "cat = open('UVrdy2go.txt','w')\n",
    "cat.write(UV)\n",
    "cat.close()\n",
    "\n",
    "cat = open('UPrdy2go.txt','w')\n",
    "cat.write(UP)\n",
    "cat.close()"
   ]
  },
  {
   "cell_type": "code",
   "execution_count": null,
   "metadata": {},
   "outputs": [],
   "source": [
    "V = np.genfromtxt('UVrdy2go.txt',dtype=[('t',np.float) , ('d',np.float)], skip_header=2)\n",
    "P = np.genfromtxt('UPrdy2go.txt',dtype=[('t',np.float) , ('d',np.float)], skip_header=2)\n",
    "\n",
    "print (V['t'])\n",
    "print (P['t'])\n",
    "\n",
    "V['d'] = 32. + V['d']*(44.-32.)/4.096   # Conversion Volt to cm3 comme indique dans la notice du stirling. \n",
    "V['d'] = V['d'] * 10**-6                # Conversion cm3 to m3\n",
    "\n",
    "P0=101300                               # A mesurer\n",
    "P['d'] =P0 + P['d'] / (20.*10**-6)      # Conversion Volt to Pa comme indique dans la notice du stirling.\n",
    "\n",
    "\n"
   ]
  },
  {
   "cell_type": "code",
   "execution_count": null,
   "metadata": {
    "scrolled": false
   },
   "outputs": [],
   "source": [
    "### Determination de la frequence du moteur : \n",
    "\n",
    "SampleV = (V['t'][-1]-V['t'][0])/(len(V['t'])-1.)\n",
    "VFFT = np.fft.fft(V['d'])\n",
    "freqV = np.fft.fftfreq(len(VFFT),d=SampleV)\n",
    "VFFT = VFFT[freqV>0]\n",
    "freqV = freqV[freqV>0]\n",
    "FrV=freqV[np.argmax(np.abs(VFFT))]\n",
    "TV = 1/FrV\n",
    "\n",
    "SampleP = (P['t'][-1]-P['t'][0])/(len(P['t'])-1.)\n",
    "PFFT = np.fft.fft(P['d'])\n",
    "freqP = np.fft.fftfreq(len(PFFT),d=SampleP)\n",
    "PFFT = PFFT[freqP>0]\n",
    "freqP = freqP[freqP>0]\n",
    "FrP=freqP[np.argmax(np.abs(PFFT))]\n",
    "TP = 1/FrP\n",
    "\n",
    "\n",
    "Period = (TV+TP)/2.\n",
    "print(Period)\n",
    "\n",
    "### Mesure des périodes du cycles : \n",
    "PERIOD = np.array([],dtype=np.float)\n",
    "one=False\n",
    "t0 = V['t'][0]\n",
    "for i in range (1,len(V['d'])-1) : \n",
    "    if ( (V['d'][i] <= V['d'][0]) and (V['d'][i+1] > V['d'][0]) ) or ( (V['d'][i] >= V['d'][0]) and (V['d'][i+1] < V['d'][0]) ) :\n",
    "            if one : \n",
    "                PERIOD = np.append(PERIOD,V['t'][i]-t0)\n",
    "                t0 = V['t'][i]\n",
    "                one = False\n",
    "            else : \n",
    "                one = True\n",
    "\n",
    "print(PERIOD)\n",
    "Period = np.mean(PERIOD)\n",
    "Period_Err = np.std(PERIOD)\n",
    "\n",
    "%matplotlib notebook\n",
    "fig, ax1 = plt.subplots()\n",
    "\n",
    "#xi = V['t'][0]\n",
    "#fill=True\n",
    "#while xi<V['t'][-1] : \n",
    "#    if fill==True : \n",
    "#        ax1.axvspan(xi, xi+Period, alpha=0.1, color='k')\n",
    "#        fill=False\n",
    "#    else : \n",
    "#        fill=True\n",
    "        \n",
    "#    xi=xi+Period\n",
    "\n",
    "xi = V['t'][0]\n",
    "fill=True\n",
    "for i in range(0,len(PERIOD)) : \n",
    "    if fill : \n",
    "        ax1.axvspan(xi, xi+PERIOD[i], alpha=0.1, color='k')\n",
    "        fill=False\n",
    "    else : \n",
    "        fill=True\n",
    "    xi = xi+PERIOD[i]\n",
    "if fill :     \n",
    "    ax1.axvspan(xi, xi+PERIOD[-1], alpha=0.1, color='k')\n",
    "\n",
    "\n",
    "Ncycle = len(PERIOD)\n",
    "\n",
    "\n",
    "color='tomato'\n",
    "ax1.set_xlabel('$t (s)$')\n",
    "\n",
    "ax1.set_ylabel('$V (m^3)$',color=color)\n",
    "\n",
    "ax1.tick_params(axis='y', labelcolor=color)\n",
    "ax1.errorbar( V['t'] , V['d'] , color=color, fmt = 'o',markersize=4, label='Volume')\n",
    "#ax1.plot(freqV,np.abs(VFFT),color=color)\n",
    "\n",
    "color='royalblue'\n",
    "ax2 = ax1.twinx()\n",
    "ax2.set_ylabel('$P (Pa)$',color=color)\n",
    "\n",
    "ax2.tick_params(axis='y', labelcolor=color)\n",
    "ax2.errorbar( P['t'] , P['d'] , color=color, fmt = 'o',markersize=4, label='Pression')\n",
    "#ax2.plot(freqP,np.abs(PFFT),color=color,linestyle=':')\n",
    "\n",
    "\n",
    "plt.show()\n",
    "\n",
    "print(str(Ncycle)+' cycles sont observes')\n",
    "print('le moteur tourne a '+str(60./Period)+' cylce par minute')\n",
    "\n",
    "\n"
   ]
  },
  {
   "cell_type": "code",
   "execution_count": null,
   "metadata": {
    "scrolled": false
   },
   "outputs": [],
   "source": [
    "\n",
    "\n",
    "%matplotlib notebook\n",
    "fig, ax1 = plt.subplots()\n",
    "\n",
    "ax1.set_xlabel('$V (m^3)$')\n",
    "ax1.set_ylabel('$P (Pa)$')\n",
    "\n",
    "ax1.plot(V['d'],P['d'],color='royalblue')\n",
    "\n",
    "\n",
    "PMOT = np.array([],dtype=np.float)\n",
    "for j in range(0,Ncycle) : \n",
    "    \n",
    "    booli = np.invert(np.ones(len(V['t']),dtype=np.bool))\n",
    "    \n",
    "    booli[(V['t']>=V['t'][0]+np.sum(PERIOD[:j]))&(V['t']<V['t'][0]+np.sum(PERIOD[:j+1]))] = True\n",
    "\n",
    "    Pcycle = np.append(P['d'][booli],P['d'][booli][0]) # Je rajoute la derniere valeur pour l'intergration pour bien faire tout le tour\n",
    "    Vcycle = np.append(V['d'][booli],V['d'][booli][0])\n",
    "\n",
    "    if j ==0 : \n",
    "        ax1.plot(V['d'][booli],P['d'][booli],'o',color='tomato')\n",
    "        ax1.plot(Vcycle,Pcycle,color='tomato')\n",
    "    \n",
    "    Wcycle = np.trapz(Pcycle,x=Vcycle)                 # Le travail (reçu) W = - int(P.dV) . Intergrale calculee avec la methode des trapeze \n",
    "                                                       # Le travail (fourni) W = int(P.dV)\n",
    "    Pcycle = Wcycle/PERIOD[j]\n",
    "        \n",
    "    PMOT = np.append(PMOT,Pcycle)\n",
    "    \n",
    "\n",
    "Pmoteur = np.mean(PMOT)     # La puissance est le travail fourni par 1 cycle / temps du cycle.\n",
    "Pmoteur_err = np.std(PMOT)\n",
    "\n",
    "Pmot , Pmot_err = my_round(Pmoteur , Pmoteur_err)\n",
    "\n",
    "print('La puissance fourni par le moteur est : '+str(Pmot)+' +/- '+str(Pmot_err)+' W')\n",
    "\n",
    "\n",
    "plt.show()\n",
    "\n",
    "\n"
   ]
  },
  {
   "cell_type": "code",
   "execution_count": null,
   "metadata": {},
   "outputs": [],
   "source": [
    "# Calcul Rendement du moteur : \n",
    "meth = 0.7     #(g) Masse ethanol brulé par la meche\n",
    "t=68           #(s) Temps pour brulé la masse M\n",
    "\n",
    "Meth = 46.0684 #(g/mol) Masse molaire ethanol\n",
    "DH = 1368      #(kJ/mol) Enthalpie de combustion ethanol\n",
    "\n",
    "\n",
    "Pflamme = 1000*(meth/Meth) * DH / t\n",
    "print('Puissance fourni par la lampe a ethanol : '+str(Pflamme)+' W')\n",
    "\n",
    "print ('Rendement : ~ '+str(np.ceil(100*Pmoteur/Pflamme))+' %')"
   ]
  },
  {
   "cell_type": "code",
   "execution_count": null,
   "metadata": {},
   "outputs": [],
   "source": []
  },
  {
   "cell_type": "code",
   "execution_count": null,
   "metadata": {},
   "outputs": [],
   "source": []
  },
  {
   "cell_type": "code",
   "execution_count": null,
   "metadata": {},
   "outputs": [],
   "source": []
  }
 ],
 "metadata": {
  "kernelspec": {
   "display_name": "Python 3",
   "language": "python",
   "name": "python3"
  },
  "language_info": {
   "codemirror_mode": {
    "name": "ipython",
    "version": 3
   },
   "file_extension": ".py",
   "mimetype": "text/x-python",
   "name": "python",
   "nbconvert_exporter": "python",
   "pygments_lexer": "ipython3",
   "version": "3.7.3"
  }
 },
 "nbformat": 4,
 "nbformat_minor": 2
}
